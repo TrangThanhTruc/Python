{
 "cells": [
  {
   "cell_type": "markdown",
   "metadata": {},
   "source": [
    "2.1 Danh sách (Lists)"
   ]
  },
  {
   "cell_type": "code",
   "execution_count": 1,
   "metadata": {},
   "outputs": [
    {
     "name": "stdout",
     "output_type": "stream",
     "text": [
      "Phần tử đầu: 1\n",
      "Phần tử cuối: 10\n",
      "Độ dài danh sách: 10\n"
     ]
    }
   ],
   "source": [
    "#Bài tập 1: Tạo một danh sách gồm các số nguyên từ 1 đến 10. In ra phần tử đầu tiên, phần tử cuối cùng và độ dài của danh sách.\n",
    "\n",
    "numbers = list(range(1,11))\n",
    "print(\"Phần tử đầu:\", numbers[0])\n",
    "print(\"Phần tử cuối:\", numbers[-1])\n",
    "print(\"Độ dài danh sách:\", len(numbers))"
   ]
  },
  {
   "cell_type": "code",
   "execution_count": 6,
   "metadata": {},
   "outputs": [
    {
     "name": "stdout",
     "output_type": "stream",
     "text": [
      "Tổng của danh sách: 12\n"
     ]
    }
   ],
   "source": [
    "#Bài tập 2: Viết chương trình yêu cầu người dùng nhập một danh sách gồm các số nguyên (sử dụng input().split()), sau đó tính tổng của tất cả các phần tử trong danh sách.\n",
    "\n",
    "numbers = list(map(int, input(\"Nhập các số cách nhau bởi dấu cách: \").split()))\n",
    "print(\"Tổng của danh sách:\", sum(numbers))"
   ]
  },
  {
   "cell_type": "code",
   "execution_count": 7,
   "metadata": {},
   "outputs": [
    {
     "name": "stdout",
     "output_type": "stream",
     "text": [
      "[1, 2, 3, 4, 5]\n"
     ]
    }
   ],
   "source": [
    "#Bài tập 3: Viết hàm remove_duplicates(lst) loại bỏ các phần tử trùng lặp trong danh sách và trả về danh sách mới.\n",
    "def remove_duplicates(lst):\n",
    "    return list(set(lst))\n",
    "\n",
    "print(remove_duplicates([1, 2, 2, 3, 3, 4, 3, 5]))"
   ]
  },
  {
   "cell_type": "markdown",
   "metadata": {},
   "source": [
    "2.2 Tuple"
   ]
  },
  {
   "cell_type": "code",
   "execution_count": 8,
   "metadata": {},
   "outputs": [
    {
     "name": "stdout",
     "output_type": "stream",
     "text": [
      "Thành phố đầu: Hà Nội\n",
      "Thành phố cuối: Cần Thơ\n"
     ]
    }
   ],
   "source": [
    "#Bài tập 4: Tạo một tuple chứa tên của 5 thành phố lớn ở Việt Nam. In ra thành phố đầu tiên và thành phố cuối cùng trong tuple.\n",
    "\n",
    "cities = (\"Hà Nội\", \"HCM\", \"Đà Nắng\", \"Hải Phòng\", \"Cần Thơ\")\n",
    "print(\"Thành phố đầu:\", cities[0])\n",
    "print(\"Thành phố cuối:\", cities[-1])"
   ]
  },
  {
   "cell_type": "code",
   "execution_count": 10,
   "metadata": {},
   "outputs": [
    {
     "name": "stdout",
     "output_type": "stream",
     "text": [
      "Tuple: (1, 2, 3, 4, 5)\n"
     ]
    }
   ],
   "source": [
    "#Bài tập 5: Viết một chương trình chuyển đổi một danh sách thành một tuple và in ra kết quả.\n",
    "\n",
    "lst = [1,2,3,4,5]\n",
    "tup = tuple(lst)\n",
    "print(\"Tuple:\", tup)"
   ]
  },
  {
   "cell_type": "code",
   "execution_count": 12,
   "metadata": {},
   "outputs": [
    {
     "name": "stdout",
     "output_type": "stream",
     "text": [
      "Phần tử 1: 10\n",
      "Phần tử 2: 20\n",
      "Phần tử 3: 30\n"
     ]
    }
   ],
   "source": [
    "#Bài tập 6: Viết hàm unpack_tuple(tup) nhận vào một tuple gồm ba phần tử và in từng phần tử một cách riêng biệt.\n",
    "\n",
    "def unpack_tuple(tup):\n",
    "    a,b,c = tup\n",
    "    print(\"Phần tử 1:\", a)\n",
    "    print(\"Phần tử 2:\", b)\n",
    "    print(\"Phần tử 3:\", c)\n",
    "\n",
    "unpack_tuple((10, 20, 30))\n",
    "    "
   ]
  },
  {
   "cell_type": "markdown",
   "metadata": {},
   "source": [
    "2.3 Từ điển (Dictionaries)"
   ]
  },
  {
   "cell_type": "code",
   "execution_count": 13,
   "metadata": {},
   "outputs": [
    {
     "name": "stdout",
     "output_type": "stream",
     "text": [
      "An - Tuổi: 25\n",
      "Bình - Tuổi: 30\n",
      "Cường - Tuổi: 28\n"
     ]
    }
   ],
   "source": [
    "#Bài tập 7: Tạo một từ điển lưu tên và tuổi của ba người. In ra tuổi của từng người.\n",
    "\n",
    "people = {\"An\": 25, \"Bình\": 30, \"Cường\": 28}\n",
    "for name, age in people.items():\n",
    "    print(f\"{name} - Tuổi: {age}\")"
   ]
  },
  {
   "cell_type": "code",
   "execution_count": 14,
   "metadata": {},
   "outputs": [
    {
     "name": "stdout",
     "output_type": "stream",
     "text": [
      "Danh bạ: {'Trúc': '123456', 'Py': '3477593', 'Windy ': '3474393'}\n"
     ]
    }
   ],
   "source": [
    "#Bài tập 8: Viết chương trình cho phép người dùng nhập tên và số điện thoại của một người, sau đó lưu thông tin vào từ điển. Cho phép người dùng tiếp tục thêm cho đến khi nhập \"STOP\".\n",
    "phonebook = {}\n",
    "while True:\n",
    "    name = input(\"Nhập tên: \")\n",
    "    if name.lower() == \"stop\":\n",
    "        break\n",
    "    phone = input(\"Nhập số điện thoại \")\n",
    "    phonebook[name] =  phone\n",
    "print(\"Danh bạ:\", phonebook)"
   ]
  },
  {
   "cell_type": "code",
   "execution_count": 15,
   "metadata": {},
   "outputs": [
    {
     "name": "stdout",
     "output_type": "stream",
     "text": [
      "{25: 'An', 30: 'Bình', 28: 'Cường'}\n"
     ]
    }
   ],
   "source": [
    "#Bài tập 9: Viết hàm invert_dict(d) để đảo ngược từ điển (chuyển giá trị thành khóa và khóa thành giá trị).\n",
    "\n",
    "def invert_dict(d):\n",
    "    return {v: k for k, v in d.items()}\n",
    "\n",
    "print(invert_dict({\"An\": 25, \"Bình\": 30, \"Cường\": 28}))"
   ]
  },
  {
   "cell_type": "markdown",
   "metadata": {},
   "source": [
    "2.4 Tập hợp (Sets)"
   ]
  },
  {
   "cell_type": "code",
   "execution_count": 16,
   "metadata": {},
   "outputs": [
    {
     "name": "stdout",
     "output_type": "stream",
     "text": [
      "Giao {4, 5}\n",
      "Hợp {1, 2, 3, 4, 5, 6, 7, 8}\n",
      "Hiệu A - B: {1, 2, 3}\n"
     ]
    }
   ],
   "source": [
    "#Bài tập 10: Tạo hai tập hợp A = {1, 2, 3, 4, 5} và B = {4, 5, 6, 7, 8}. Tìm và in ra phần giao, hợp và hiệu của hai tập hợp.\n",
    "\n",
    "A = {1,2,3,4,5}\n",
    "B = {4,5,6,7,8}\n",
    "print(\"Giao\", A & B)\n",
    "print(\"Hợp\", A | B)\n",
    "print(\"Hiệu A - B:\", A - B)\n"
   ]
  },
  {
   "cell_type": "code",
   "execution_count": 17,
   "metadata": {},
   "outputs": [
    {
     "name": "stdout",
     "output_type": "stream",
     "text": [
      "A là tập con của B: True\n"
     ]
    }
   ],
   "source": [
    "#Bài tập 11: Kiểm tra xem một tập hợp A có phải là tập con của tập hợp B hay không.\n",
    "\n",
    "A = {1,2,3}\n",
    "B = {1,2,3,4,5}\n",
    "print(\"A là tập con của B:\", A.issubset(B))"
   ]
  },
  {
   "cell_type": "markdown",
   "metadata": {},
   "source": [
    "2.5 Chuỗi (Strings)"
   ]
  },
  {
   "cell_type": "code",
   "execution_count": 19,
   "metadata": {},
   "outputs": [
    {
     "name": "stdout",
     "output_type": "stream",
     "text": [
      "Số từ trong câu: 4\n",
      "['hôm', 'nay', 'trờ', 'mưa']\n"
     ]
    }
   ],
   "source": [
    "#Bài tập 12: Viết chương trình yêu cầu người dùng nhập một câu, sau đó in ra số từ trong câu đó.\n",
    "\n",
    "sentence = input(\"Nhập một câu: \")\n",
    "words = sentence.split()\n",
    "print(\"Số từ trong câu:\", len(words))\n",
    "print(words)\n"
   ]
  },
  {
   "cell_type": "code",
   "execution_count": 20,
   "metadata": {},
   "outputs": [
    {
     "name": "stdout",
     "output_type": "stream",
     "text": [
      "True\n",
      "False\n"
     ]
    }
   ],
   "source": [
    "#Bài tập 13: Viết chương trình kiểm tra xem một chuỗi có phải là chuỗi đối xứng (palindrome) hay không.\n",
    "def is_palindrome(s):\n",
    "    return s == s[::-1]\n",
    "\n",
    "print(is_palindrome(\"radar\"))\n",
    "print(is_palindrome(\"python\"))\n"
   ]
  },
  {
   "cell_type": "code",
   "execution_count": 21,
   "metadata": {},
   "outputs": [
    {
     "name": "stdout",
     "output_type": "stream",
     "text": [
      "3\n"
     ]
    }
   ],
   "source": [
    "#Bài tập 14: Viết hàm count_vowels(s) để đếm số lượng nguyên âm (a, e, i, o, u) trong một chuỗi s.\n",
    "def count_vowels(s):\n",
    "    vowels = \"aeiouAEIOU\"\n",
    "    return sum(1 for char in s if char in vowels)\n",
    "print(count_vowels(\"Hello World\"))\n"
   ]
  },
  {
   "cell_type": "code",
   "execution_count": 22,
   "metadata": {},
   "outputs": [
    {
     "name": "stdout",
     "output_type": "stream",
     "text": [
      "Python love I\n"
     ]
    }
   ],
   "source": [
    "#Bài tập 15: Viết hàm reverse_words(sentence) nhận vào một chuỗi câu và trả về câu với thứ tự từ đảo ngược.\n",
    "\n",
    "def reverse_words(sentence):\n",
    "    words = sentence.split()\n",
    "    reversed_sentence = \" \".join(words[::-1])\n",
    "    return reversed_sentence\n",
    "\n",
    "print(reverse_words(\"I love Python\"))\n",
    "   \n"
   ]
  }
 ],
 "metadata": {
  "kernelspec": {
   "display_name": "Python 3",
   "language": "python",
   "name": "python3"
  },
  "language_info": {
   "codemirror_mode": {
    "name": "ipython",
    "version": 3
   },
   "file_extension": ".py",
   "mimetype": "text/x-python",
   "name": "python",
   "nbconvert_exporter": "python",
   "pygments_lexer": "ipython3",
   "version": "3.12.4"
  }
 },
 "nbformat": 4,
 "nbformat_minor": 2
}
