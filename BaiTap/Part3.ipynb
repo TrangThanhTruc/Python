{
 "cells": [
  {
   "cell_type": "markdown",
   "metadata": {},
   "source": [
    "3.1 Lập trình hướng đối tượng (OOP)"
   ]
  },
  {
   "cell_type": "code",
   "execution_count": 9,
   "metadata": {},
   "outputs": [
    {
     "name": "stdout",
     "output_type": "stream",
     "text": [
      "Xin chào, tôi là Truc và tôi 25 tuổi\n"
     ]
    }
   ],
   "source": [
    "#Bài tập 1: Tạo một lớp Person với các thuộc tính name và age. Viết một phương thức greet() để in ra câu chào của người đó.\n",
    "class Person:\n",
    "    def __init__(self, name, age):\n",
    "        self.name = name\n",
    "        self.age = age\n",
    "\n",
    "    def greet(self):\n",
    "        print(f\"Xin chào, tôi là {self.name} và tôi {self.age} tuổi\")\n",
    "\n",
    "person1 = Person(\"Truc\", 25)\n",
    "person1.greet()"
   ]
  },
  {
   "cell_type": "code",
   "execution_count": 10,
   "metadata": {},
   "outputs": [
    {
     "name": "stdout",
     "output_type": "stream",
     "text": [
      "Xin chào, tôi là Bình và tôi 20 tuổi\n",
      "Bình đang học.\n"
     ]
    }
   ],
   "source": [
    "#Bài tập 2: Tạo lớp Student kế thừa từ lớp Person. Thêm thuộc tính student_id và phương thức study() để in ra thông báo học tập.\n",
    "\n",
    "class Student(Person):\n",
    "    def __init__(self, name, age, student_id):\n",
    "        super().__init__(name, age)\n",
    "        self.student_id = student_id\n",
    "\n",
    "    def study(self):\n",
    "        print(f\"{self.name} đang học.\")\n",
    "\n",
    "\n",
    "student1 = Student(\"Bình\", 20, \"123456\")\n",
    "student1.greet()\n",
    "student1.study()\n"
   ]
  },
  {
   "cell_type": "code",
   "execution_count": 13,
   "metadata": {},
   "outputs": [
    {
     "name": "stdout",
     "output_type": "stream",
     "text": [
      "Diện tích: 78.53981633974483\n"
     ]
    }
   ],
   "source": [
    "#Bài tập 3: Viết lớp Circle với thuộc tính radius và các phương thức để tính diện tích và chu vi của hình tròn.\n",
    "\n",
    "import math\n",
    "\n",
    "class Circle:\n",
    "    def __init__ (self, radius):\n",
    "        self.radius = radius\n",
    "\n",
    "    def area(self):\n",
    "        return math.pi * (self.radius ** 2)\n",
    "    \n",
    "    def circumference(self):\n",
    "        return 2*math.pi* self.radius\n",
    "    \n",
    "\n",
    "circle1 = Circle(5)\n",
    "print(f\"Diện tích: {circle1.area()}\")\n",
    "\n"
   ]
  },
  {
   "cell_type": "markdown",
   "metadata": {},
   "source": [
    "3.2 Kế thừa và Đa hình"
   ]
  },
  {
   "cell_type": "code",
   "execution_count": 14,
   "metadata": {},
   "outputs": [
    {
     "name": "stdout",
     "output_type": "stream",
     "text": [
      "Gâu gâu!\n",
      "Meow meow!\n"
     ]
    }
   ],
   "source": [
    "#Bài tập 4: Tạo lớp Animal với phương thức speak(). Tạo các lớp Dog và Cat kế thừa từ lớp Animal và ghi đè phương thức speak().\n",
    "\n",
    "class Animal:\n",
    "    def speak(self):\n",
    "        pass\n",
    "\n",
    "class Dog(Animal):\n",
    "    def speak(self):\n",
    "        return \"Gâu gâu!\"\n",
    "\n",
    "class Cat(Animal):\n",
    "    def speak(self):\n",
    "        return \"Meow meow!\"\n",
    "    \n",
    "dog = Dog()\n",
    "cat = Cat()\n",
    "print(dog.speak())\n",
    "print(cat.speak())\n",
    "\n"
   ]
  },
  {
   "cell_type": "code",
   "execution_count": 15,
   "metadata": {},
   "outputs": [
    {
     "name": "stdout",
     "output_type": "stream",
     "text": [
      "Gâu gâu!\n",
      "Meow meow!\n"
     ]
    }
   ],
   "source": [
    "#Bài tập 5: Viết một hàm make_animal_speak(animal) nhận vào một đối tượng động vật và gọi phương thức speak() của nó.\n",
    "\n",
    "def make_animal_speak(animal):\n",
    "    print(animal.speak())\n",
    "\n",
    "make_animal_speak(dog)\n",
    "make_animal_speak(cat)"
   ]
  },
  {
   "cell_type": "markdown",
   "metadata": {},
   "source": [
    "3.3 Thư viện trong Python"
   ]
  },
  {
   "cell_type": "code",
   "execution_count": 16,
   "metadata": {},
   "outputs": [
    {
     "name": "stdout",
     "output_type": "stream",
     "text": [
      "Ngày và giờ hiện tại: 2024-11-04 22:52:07.758904\n"
     ]
    }
   ],
   "source": [
    "#Bài tập 6: Sử dụng thư viện datetime để in ra ngày và giờ hiện tại.\n",
    "\n",
    "import datetime\n",
    "\n",
    "now = datetime.datetime.now()\n",
    "print(\"Ngày và giờ hiện tại:\", now)\n"
   ]
  },
  {
   "cell_type": "code",
   "execution_count": 17,
   "metadata": {},
   "outputs": [
    {
     "name": "stdout",
     "output_type": "stream",
     "text": [
      "Bạn đoán sai. Số đúng là: 28\n"
     ]
    }
   ],
   "source": [
    "#Bài tập 7: Viết chương trình sử dụng thư viện random để tạo ra một số ngẫu nhiên trong khoảng từ 1 đến 100 và yêu cầu người dùng đoán số đó.\n",
    "\n",
    "import random\n",
    "\n",
    "number = random.randint(1, 100)\n",
    "guess = int(input(\"Đoán một số từ 1 đến 100: \"))\n",
    "\n",
    "if (guess == number):\n",
    "    print(\"Chúc mừng! Bạn đã đoán đúng\")\n",
    "else:\n",
    "    print(f\"Bạn đoán sai. Số đúng là: {number}\")"
   ]
  },
  {
   "cell_type": "code",
   "execution_count": 18,
   "metadata": {},
   "outputs": [
    {
     "name": "stdout",
     "output_type": "stream",
     "text": [
      "Căn bậc hai của 5.0 là: 2.23606797749979\n"
     ]
    }
   ],
   "source": [
    "#Bài tập 8: Sử dụng thư viện math để tính căn bậc hai của một số do người dùng nhập vào.\n",
    "\n",
    "import math\n",
    "number = float(input(\"Nhập một số: \"))\n",
    "sqrt_number = math.sqrt(number)\n",
    "print(f\"Căn bậc hai của {number} là: {sqrt_number}\")"
   ]
  },
  {
   "cell_type": "code",
   "execution_count": 19,
   "metadata": {},
   "outputs": [
    {
     "name": "stdout",
     "output_type": "stream",
     "text": [
      "{'userId': 1, 'id': 1, 'title': 'sunt aut facere repellat provident occaecati excepturi optio reprehenderit', 'body': 'quia et suscipit\\nsuscipit recusandae consequuntur expedita et cum\\nreprehenderit molestiae ut ut quas totam\\nnostrum rerum est autem sunt rem eveniet architecto'}\n"
     ]
    }
   ],
   "source": [
    "#Bài tập 9: Sử dụng thư viện requests để lấy dữ liệu từ một API (ví dụ: JSONPlaceholder) và in ra kết quả.\n",
    "\n",
    "import requests\n",
    "\n",
    "response = requests.get('https://jsonplaceholder.typicode.com/posts/1')\n",
    "data = response.json()\n",
    "print(data)\n"
   ]
  },
  {
   "cell_type": "markdown",
   "metadata": {},
   "source": [
    "\n",
    "3.4 Xử lý tệp"
   ]
  },
  {
   "cell_type": "code",
   "execution_count": 24,
   "metadata": {},
   "outputs": [
    {
     "name": "stdout",
     "output_type": "stream",
     "text": [
      "Danh sách tên: ['An', 'Bình', 'Cường']\n"
     ]
    }
   ],
   "source": [
    "#Bài tập 10: Viết chương trình ghi một danh sách các tên vào tệp names.txt và sau đó đọc lại và in ra danh sách đó.\n",
    "\n",
    "names = [\"An\", \"Bình\", \"Cường\"]\n",
    "\n",
    "with open('names.txt','w', encoding='utf-8') as f:\n",
    "    for name in names:\n",
    "        f.write(name + '\\n')\n",
    "\n",
    "with open('names.txt', 'r', encoding='utf-8') as f:\n",
    "    content = f.readlines()\n",
    "    print(\"Danh sách tên:\", [name.strip() for name in content])\n"
   ]
  }
 ],
 "metadata": {
  "kernelspec": {
   "display_name": "Python 3",
   "language": "python",
   "name": "python3"
  },
  "language_info": {
   "codemirror_mode": {
    "name": "ipython",
    "version": 3
   },
   "file_extension": ".py",
   "mimetype": "text/x-python",
   "name": "python",
   "nbconvert_exporter": "python",
   "pygments_lexer": "ipython3",
   "version": "3.12.4"
  }
 },
 "nbformat": 4,
 "nbformat_minor": 2
}
