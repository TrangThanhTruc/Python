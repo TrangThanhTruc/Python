{
 "cells": [
  {
   "cell_type": "markdown",
   "metadata": {},
   "source": [
    "Ứng dụng Console"
   ]
  },
  {
   "cell_type": "code",
   "execution_count": 2,
   "metadata": {},
   "outputs": [
    {
     "name": "stdout",
     "output_type": "stream",
     "text": [
      "Chào mừng đến với máy tính!\n",
      "Kết quả: -1.0\n"
     ]
    }
   ],
   "source": [
    "#Bài tập 1: Máy Tính Đơn Giản: Xây dựng một ứng dụng console đơn giản thực hiện các phép toán cơ bản như cộng, trừ, nhân, chia.\n",
    "\n",
    "def calculator():\n",
    "    print(\"Chào mừng đến với máy tính!\")\n",
    "    num1 = float(input(\"Nhập số thứ nhất: \"))\n",
    "    operator = input(\"Nhập phép toán (+, -, *, /): \")\n",
    "    num2 = float(input(\"Nhập số thứ hai: \"))\n",
    "\n",
    "    if operator == '+':\n",
    "        result = num1 + num2\n",
    "    elif operator == '-':\n",
    "        result = num1 - num2\n",
    "    elif operator == '*':\n",
    "        result = num1 * num2\n",
    "    elif operator == '/':\n",
    "        result = num1 / num2\n",
    "    else:\n",
    "        return \"Phép toán không hợp lệ!\"\n",
    "\n",
    "    print(f\"Kết quả: {result}\")\n",
    "\n",
    "calculator()"
   ]
  },
  {
   "cell_type": "code",
   "execution_count": 4,
   "metadata": {},
   "outputs": [
    {
     "name": "stdout",
     "output_type": "stream",
     "text": [
      "Một ngôn ngữ lập trình hướng đối tượng.\n"
     ]
    }
   ],
   "source": [
    "#Bài tập 2: Từ Điển Đơn Giản: Tạo một ứng dụng từ điển cho phép người dùng tìm kiếm nghĩa của từ. Sử dụng một từ điển đơn giản (dictionary) trong Python.\n",
    "\n",
    "def dictionary_app():\n",
    "    dictionary = {\n",
    "        \"Python\": \"Một ngôn ngữ lập trình cao cấp.\",\n",
    "        \"Java\": \"Một ngôn ngữ lập trình hướng đối tượng.\",\n",
    "        \"HTML\": \"Ngôn ngữ đánh dấu siêu văn bản.\",\n",
    "        \"CSS\": \"Ngôn ngữ định kiểu cho web.\"\n",
    "    }\n",
    "\n",
    "    word = input(\"Nhập từ bạn muốn tra cứu: \")\n",
    "    meaning = dictionary.get(word, \"Không tìm thấy từ này!\")\n",
    "    print(meaning)\n",
    "\n",
    "dictionary_app()"
   ]
  },
  {
   "cell_type": "markdown",
   "metadata": {},
   "source": [
    " Ứng dụng Web"
   ]
  },
  {
   "cell_type": "code",
   "execution_count": 1,
   "metadata": {},
   "outputs": [
    {
     "name": "stdout",
     "output_type": "stream",
     "text": [
      " * Serving Flask app '__main__'\n",
      " * Debug mode: on\n"
     ]
    },
    {
     "name": "stderr",
     "output_type": "stream",
     "text": [
      "WARNING: This is a development server. Do not use it in a production deployment. Use a production WSGI server instead.\n",
      " * Running on http://127.0.0.1:5000\n",
      "Press CTRL+C to quit\n",
      " * Restarting with stat\n"
     ]
    },
    {
     "ename": "SystemExit",
     "evalue": "1",
     "output_type": "error",
     "traceback": [
      "An exception has occurred, use %tb to see the full traceback.\n",
      "\u001b[1;31mSystemExit\u001b[0m\u001b[1;31m:\u001b[0m 1\n"
     ]
    },
    {
     "name": "stderr",
     "output_type": "stream",
     "text": [
      "C:\\Users\\Truc\\AppData\\Roaming\\Python\\Python312\\site-packages\\IPython\\core\\interactiveshell.py:3585: UserWarning: To exit: use 'exit', 'quit', or Ctrl-D.\n",
      "  warn(\"To exit: use 'exit', 'quit', or Ctrl-D.\", stacklevel=1)\n"
     ]
    }
   ],
   "source": [
    "#Bài tập 3: API đơn giản với Flask: Xây dựng một API đơn giản trả về danh sách sản phẩm dưới dạng JSON.\n",
    "\n",
    "\n",
    "import traceback\n",
    "from flask import Flask, jsonify\n",
    "\n",
    "app = Flask(__name__)\n",
    "\n",
    "products = [\n",
    "    {\"id\": 1, \"name\": \"Sản phẩm A\", \"price\": 100},\n",
    "    {\"id\": 2, \"name\": \"Sản phẩm B\", \"price\": 150},\n",
    "]\n",
    "\n",
    "@app.route('/products', methods=['GET'])\n",
    "def get_products():\n",
    "    return jsonify(products)\n",
    "\n",
    "if __name__ == '__main__':\n",
    "    try:\n",
    "        \n",
    "        app.run(debug=True)\n",
    "        \n",
    "    except Exception as e:\n",
    "        \n",
    "        print(\"Đã xảy ra lỗi:\")\n",
    "        print(e)\n",
    "        traceback.print_exc()\n",
    "\n"
   ]
  }
 ],
 "metadata": {
  "kernelspec": {
   "display_name": "Python 3",
   "language": "python",
   "name": "python3"
  },
  "language_info": {
   "codemirror_mode": {
    "name": "ipython",
    "version": 3
   },
   "file_extension": ".py",
   "mimetype": "text/x-python",
   "name": "python",
   "nbconvert_exporter": "python",
   "pygments_lexer": "ipython3",
   "version": "3.12.4"
  }
 },
 "nbformat": 4,
 "nbformat_minor": 2
}
