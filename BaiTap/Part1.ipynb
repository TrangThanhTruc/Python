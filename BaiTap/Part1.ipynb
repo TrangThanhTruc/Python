{
 "cells": [
  {
   "cell_type": "markdown",
   "metadata": {},
   "source": [
    " Cài đặt Python và IDE"
   ]
  },
  {
   "cell_type": "code",
   "execution_count": null,
   "metadata": {},
   "outputs": [],
   "source": [
    "# Bài tập: Cài đặt Python và thử chạy một đoạn mã đơn giản in ra dòng chữ\n",
    "print(\"Hello, World!\")"
   ]
  },
  {
   "cell_type": "markdown",
   "metadata": {},
   "source": [
    "Biến và Kiểu Dữ Liệu"
   ]
  },
  {
   "cell_type": "code",
   "execution_count": 2,
   "metadata": {},
   "outputs": [
    {
     "name": "stdout",
     "output_type": "stream",
     "text": [
      "<class 'int'> <class 'float'> <class 'str'> <class 'bool'>\n"
     ]
    }
   ],
   "source": [
    "# Bài tập 1: Tạo các biến với các kiểu dữ liệu int, float, str, và bool. Sau đó in chúng ra màn hình cùng kiểu dữ liệu của chúng.\n",
    "\n",
    "x= 10\n",
    "y =3.14\n",
    "name = \"Python\"\n",
    "is_learning = True\n",
    "print(type(x), type(y), type(name), type(is_learning))\n"
   ]
  },
  {
   "cell_type": "code",
   "execution_count": 4,
   "metadata": {},
   "outputs": [
    {
     "name": "stdout",
     "output_type": "stream",
     "text": [
      "Xin chào Trúc, bạn 25 tuổi!\n"
     ]
    }
   ],
   "source": [
    "#Bài tập 2: Viết chương trình yêu cầu người dùng nhập tên và tuổi của họ, sau đó in ra câu chào kèm với tuổi đã nhập.\n",
    "name = input(\"Nhập tên của bạn: \")\n",
    "age = int(input(\"Nhập tuổi của bạn: \"))\n",
    "print(f\"Xin chào {name}, bạn {age} tuổi!\")"
   ]
  },
  {
   "cell_type": "code",
   "execution_count": 5,
   "metadata": {},
   "outputs": [
    {
     "name": "stdout",
     "output_type": "stream",
     "text": [
      "Diện tích: 50.26544, Chu vi: 25.13272\n"
     ]
    }
   ],
   "source": [
    "#Bài tập 3: Viết chương trình tính diện tích và chu vi hình tròn khi biết bán kính\n",
    "r = float(input(\"Nhập bán kính hình tròn: \"))\n",
    "pi= 3.14159\n",
    "area = pi * r**2\n",
    "circumference = 2*pi*r\n",
    "print(f\"Diện tích: {area}, Chu vi: {circumference}\")\n"
   ]
  },
  {
   "cell_type": "code",
   "execution_count": 8,
   "metadata": {},
   "outputs": [
    {
     "name": "stdout",
     "output_type": "stream",
     "text": [
      "Số này là số lẻ\n"
     ]
    }
   ],
   "source": [
    "#Bài tập 4: Viết chương trình kiểm tra một số là chẵn hay lẻ.\n",
    "num = int(input(\"Nhập một số nguyên: \"))\n",
    "if num%2 == 0:\n",
    "    print(\"Số này là số chẵn\")\n",
    "else:\n",
    "    print(\"Số này là số lẻ\")\n"
   ]
  },
  {
   "cell_type": "code",
   "execution_count": 13,
   "metadata": {},
   "outputs": [
    {
     "name": "stdout",
     "output_type": "stream",
     "text": [
      "Phân loại: C\n"
     ]
    }
   ],
   "source": [
    "#Bài tập 5: Viết chương trình yêu cầu người dùng nhập điểm số và in ra phân loại:\n",
    "\n",
    "score = float(input(\"Nhập điểm số: \"))\n",
    "if score >= 90:\n",
    "    grade = \"A\"\n",
    "elif score >= 80:\n",
    "    grade = \"B\"\n",
    "elif score >= 70:\n",
    "    grade = \"C\"\n",
    "elif score >= 60:\n",
    "    grade = \"D\"\n",
    "else:\n",
    "    grade = \"F\"\n",
    "print(f\"Phân loại: {grade}\")\n"
   ]
  },
  {
   "cell_type": "code",
   "execution_count": 15,
   "metadata": {},
   "outputs": [
    {
     "name": "stdout",
     "output_type": "stream",
     "text": [
      "Số lớn nhất là: 89.3 \n",
      "Số nhỏ nhất là: 3.5\n"
     ]
    }
   ],
   "source": [
    "#Bài tập 6: Viết chương trình yêu cầu người dùng nhập ba số và in ra số lớn nhất.\n",
    "a = float(input(\"Nhập vào số thứ nhất: \"))\n",
    "b = float(input(\"Nhập vào số thứ hai: \"))\n",
    "c = float(input(\"Nhập vào số thứ ba: \"))\n",
    "max_num = max(a,b,c)\n",
    "print(f\"Số lớn nhất là: {max_num} \")\n",
    "print(f\"Số nhỏ nhất là: {min(a,b,c)}\")"
   ]
  },
  {
   "cell_type": "markdown",
   "metadata": {},
   "source": [
    "Vòng lặp"
   ]
  },
  {
   "cell_type": "code",
   "execution_count": 1,
   "metadata": {},
   "outputs": [
    {
     "name": "stdout",
     "output_type": "stream",
     "text": [
      "1\n",
      "2\n",
      "3\n",
      "4\n",
      "5\n",
      "6\n",
      "7\n",
      "8\n",
      "9\n",
      "10\n"
     ]
    }
   ],
   "source": [
    "#Bài tập 7: Viết chương trình in ra các số từ 1 đến 10 bằng vòng lặp for.\n",
    "for i in range (1,11):\n",
    "    print(i)"
   ]
  },
  {
   "cell_type": "code",
   "execution_count": null,
   "metadata": {},
   "outputs": [
    {
     "name": "stdout",
     "output_type": "stream",
     "text": [
      "Tổng từ 1 đén 5 là: 15\n"
     ]
    }
   ],
   "source": [
    "#Bài tập 8: Viết chương trình tính tổng của các số từ 1 đến n, với n là số do người dùng nhập vào.\n",
    "n = int(input(\"Nhập số n: \"))\n",
    "total = sum(range(1, n+1))\n",
    "print(f\"Tổng từ 1 đén {n} là: {total}\")\n"
   ]
  },
  {
   "cell_type": "code",
   "execution_count": 3,
   "metadata": {},
   "outputs": [
    {
     "name": "stdout",
     "output_type": "stream",
     "text": [
      "Mật khẩu đúng!\n"
     ]
    }
   ],
   "source": [
    "#Bài tập 9: Viết chương trình yêu cầu người dùng nhập mật khẩu cho đến khi họ nhập đúng là \"1234\".\n",
    "password = \"\"\n",
    "while password != \"1234\":\n",
    "    password = input(\"Nhập mật khẩu: \")\n",
    "print(\"Mật khẩu đúng!\")"
   ]
  },
  {
   "cell_type": "markdown",
   "metadata": {},
   "source": [
    "Hàm"
   ]
  },
  {
   "cell_type": "code",
   "execution_count": null,
   "metadata": {},
   "outputs": [
    {
     "name": "stdout",
     "output_type": "stream",
     "text": [
      "True\n"
     ]
    }
   ],
   "source": [
    "#Bài tập 10: Viết hàm is_even(number) kiểm tra xem một số có phải là số chẵn không.\n",
    "\n",
    "def is_even(number):\n",
    "    return number % 2 == 0\n",
    "\n",
    "number = int(input(\"Nhập vào số cần kiểm tra: \"))\n",
    "print(is_even(number))\n"
   ]
  },
  {
   "cell_type": "code",
   "execution_count": null,
   "metadata": {},
   "outputs": [
    {
     "name": "stdout",
     "output_type": "stream",
     "text": [
      "120\n"
     ]
    }
   ],
   "source": [
    "#Bài tập 11: Viết hàm factorial(n) để tính giai thừa của một số n.\n",
    "\n",
    "def factorial(n):\n",
    "    result =1 \n",
    "    for i in range(1, n+1):\n",
    "        result *= i \n",
    "    return result\n",
    "\n",
    "print(factorial(5))\n"
   ]
  },
  {
   "cell_type": "code",
   "execution_count": 8,
   "metadata": {},
   "outputs": [
    {
     "name": "stdout",
     "output_type": "stream",
     "text": [
      "True\n",
      "False\n"
     ]
    }
   ],
   "source": [
    "#Bài tập 12: Viết hàm is_prime(number) kiểm tra xem một số có phải là số nguyên tố không. Hàm trả về True nếu là số nguyên tố và False nếu không phải.\n",
    "\n",
    "def is_prime(number):\n",
    "    if number < 2:\n",
    "        return False\n",
    "    for i in range(2, int(number**0.5)+1):\n",
    "        if number % i==0:\n",
    "            return False\n",
    "    return True\n",
    "\n",
    "print(is_prime(7))\n",
    "print(is_prime(10))\n"
   ]
  },
  {
   "cell_type": "markdown",
   "metadata": {},
   "source": [
    "Xử Lý Lỗi"
   ]
  },
  {
   "cell_type": "code",
   "execution_count": 9,
   "metadata": {},
   "outputs": [
    {
     "name": "stdout",
     "output_type": "stream",
     "text": [
      "Đây không phải là số nguyên. Vui lòng thử lại.\n",
      "Đây không phải là số nguyên. Vui lòng thử lại.\n",
      "Số bạn vừa nhập là: 4\n"
     ]
    }
   ],
   "source": [
    "#Bài tập 13: Viết chương trình yêu cầu người dùng nhập một số và in ra số đó. Nếu người dùng nhập không phải là số, bắt lỗi và yêu cầu nhập lại.\n",
    "\n",
    "while True:\n",
    "    try:\n",
    "        number = int(input(\"Nhập một số nguyên: \"))\n",
    "        print(f\"Số bạn vừa nhập là: {number}\")\n",
    "        break\n",
    "    except ValueError:\n",
    "        print(\"Đây không phải là số nguyên. Vui lòng thử lại.\")"
   ]
  },
  {
   "cell_type": "code",
   "execution_count": 14,
   "metadata": {},
   "outputs": [
    {
     "name": "stdout",
     "output_type": "stream",
     "text": [
      "5.0\n",
      "Không thể chia cho 0\n"
     ]
    }
   ],
   "source": [
    "#Bài tập 14: Viết hàm divide(a, b) nhận vào hai số và trả về kết quả của a / b. Nếu b = 0, bắt lỗi và in thông báo \"Không thể chia cho 0\".\n",
    "\n",
    "def devide(a,b):\n",
    "    try:\n",
    "        return a/b\n",
    "    except ZeroDivisionError:\n",
    "        return \"Không thể chia cho 0\"\n",
    "    \n",
    "print(devide(10, 2))\n",
    "print(devide(10, 0))"
   ]
  }
 ],
 "metadata": {
  "kernelspec": {
   "display_name": "Python 3",
   "language": "python",
   "name": "python3"
  },
  "language_info": {
   "codemirror_mode": {
    "name": "ipython",
    "version": 3
   },
   "file_extension": ".py",
   "mimetype": "text/x-python",
   "name": "python",
   "nbconvert_exporter": "python",
   "pygments_lexer": "ipython3",
   "version": "3.12.4"
  }
 },
 "nbformat": 4,
 "nbformat_minor": 2
}
